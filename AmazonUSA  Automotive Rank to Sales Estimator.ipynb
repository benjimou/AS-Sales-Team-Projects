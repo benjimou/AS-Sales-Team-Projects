{
 "cells": [
  {
   "cell_type": "code",
   "execution_count": 13,
   "id": "46b74ad8",
   "metadata": {},
   "outputs": [],
   "source": [
    "import pandas as pd\n",
    "file = pd.read_excel(\"AmazonUSA_Automotive_SalesEstimator.xlsx\")"
   ]
  },
  {
   "cell_type": "code",
   "execution_count": 14,
   "id": "5ea92cdc",
   "metadata": {},
   "outputs": [
    {
     "data": {
      "text/html": [
       "<div>\n",
       "<style scoped>\n",
       "    .dataframe tbody tr th:only-of-type {\n",
       "        vertical-align: middle;\n",
       "    }\n",
       "\n",
       "    .dataframe tbody tr th {\n",
       "        vertical-align: top;\n",
       "    }\n",
       "\n",
       "    .dataframe thead th {\n",
       "        text-align: right;\n",
       "    }\n",
       "</style>\n",
       "<table border=\"1\" class=\"dataframe\">\n",
       "  <thead>\n",
       "    <tr style=\"text-align: right;\">\n",
       "      <th></th>\n",
       "      <th>Best Seller's Rank Number</th>\n",
       "      <th>Amazon Marketplace</th>\n",
       "      <th>Amazon Product Category</th>\n",
       "      <th>Estimated Number of Sales per Month</th>\n",
       "    </tr>\n",
       "  </thead>\n",
       "  <tbody>\n",
       "    <tr>\n",
       "      <th>0</th>\n",
       "      <td>1</td>\n",
       "      <td>USA</td>\n",
       "      <td>Automotive</td>\n",
       "      <td>40080</td>\n",
       "    </tr>\n",
       "    <tr>\n",
       "      <th>1</th>\n",
       "      <td>2</td>\n",
       "      <td>USA</td>\n",
       "      <td>Automotive</td>\n",
       "      <td>33270</td>\n",
       "    </tr>\n",
       "    <tr>\n",
       "      <th>2</th>\n",
       "      <td>3</td>\n",
       "      <td>USA</td>\n",
       "      <td>Automotive</td>\n",
       "      <td>29610</td>\n",
       "    </tr>\n",
       "    <tr>\n",
       "      <th>3</th>\n",
       "      <td>4</td>\n",
       "      <td>USA</td>\n",
       "      <td>Automotive</td>\n",
       "      <td>27150</td>\n",
       "    </tr>\n",
       "    <tr>\n",
       "      <th>4</th>\n",
       "      <td>5</td>\n",
       "      <td>USA</td>\n",
       "      <td>Automotive</td>\n",
       "      <td>25350</td>\n",
       "    </tr>\n",
       "  </tbody>\n",
       "</table>\n",
       "</div>"
      ],
      "text/plain": [
       "   Best Seller's Rank Number Amazon Marketplace Amazon Product Category  \\\n",
       "0                          1                USA              Automotive   \n",
       "1                          2                USA              Automotive   \n",
       "2                          3                USA              Automotive   \n",
       "3                          4                USA              Automotive   \n",
       "4                          5                USA              Automotive   \n",
       "\n",
       "   Estimated Number of Sales per Month  \n",
       "0                                40080  \n",
       "1                                33270  \n",
       "2                                29610  \n",
       "3                                27150  \n",
       "4                                25350  "
      ]
     },
     "execution_count": 14,
     "metadata": {},
     "output_type": "execute_result"
    }
   ],
   "source": [
    "file.head()"
   ]
  },
  {
   "cell_type": "code",
   "execution_count": 16,
   "id": "bb059a24",
   "metadata": {},
   "outputs": [],
   "source": [
    "rank = file.iloc[:,0]\n",
    "sales = file.iloc[:,3]"
   ]
  },
  {
   "cell_type": "code",
   "execution_count": 23,
   "id": "7fdae16c",
   "metadata": {},
   "outputs": [
    {
     "data": {
      "text/plain": [
       "<matplotlib.collections.PathCollection at 0x188818843a0>"
      ]
     },
     "execution_count": 23,
     "metadata": {},
     "output_type": "execute_result"
    },
    {
     "data": {
      "image/png": "[encoded data removed]",
      "text/plain": [
       "<Figure size 432x288 with 1 Axes>"
      ]
     },
     "metadata": {
      "needs_background": "light"
     },
     "output_type": "display_data"
    }
   ],
   "source": [
    "import matplotlib.pyplot as plt\n",
    "\n",
    "plt.scatter(rank, sales)"
   ]
  },
  {
   "cell_type": "code",
   "execution_count": 30,
   "id": "d8fde263",
   "metadata": {},
   "outputs": [
    {
     "data": {
      "text/html": [
       "<div>\n",
       "<style scoped>\n",
       "    .dataframe tbody tr th:only-of-type {\n",
       "        vertical-align: middle;\n",
       "    }\n",
       "\n",
       "    .dataframe tbody tr th {\n",
       "        vertical-align: top;\n",
       "    }\n",
       "\n",
       "    .dataframe thead th {\n",
       "        text-align: right;\n",
       "    }\n",
       "</style>\n",
       "<table border=\"1\" class=\"dataframe\">\n",
       "  <thead>\n",
       "    <tr style=\"text-align: right;\">\n",
       "      <th></th>\n",
       "      <th>Best Seller's Rank Number</th>\n",
       "      <th>Amazon Marketplace</th>\n",
       "      <th>Amazon Product Category</th>\n",
       "      <th>Estimated Number of Sales per Month</th>\n",
       "    </tr>\n",
       "  </thead>\n",
       "  <tbody>\n",
       "    <tr>\n",
       "      <th>27</th>\n",
       "      <td>60000</td>\n",
       "      <td>USA</td>\n",
       "      <td>Automotive</td>\n",
       "      <td>90</td>\n",
       "    </tr>\n",
       "    <tr>\n",
       "      <th>28</th>\n",
       "      <td>80000</td>\n",
       "      <td>USA</td>\n",
       "      <td>Automotive</td>\n",
       "      <td>60</td>\n",
       "    </tr>\n",
       "    <tr>\n",
       "      <th>29</th>\n",
       "      <td>100000</td>\n",
       "      <td>USA</td>\n",
       "      <td>Automotive</td>\n",
       "      <td>60</td>\n",
       "    </tr>\n",
       "    <tr>\n",
       "      <th>30</th>\n",
       "      <td>150000</td>\n",
       "      <td>USA</td>\n",
       "      <td>Automotive</td>\n",
       "      <td>30</td>\n",
       "    </tr>\n",
       "    <tr>\n",
       "      <th>31</th>\n",
       "      <td>200000</td>\n",
       "      <td>USA</td>\n",
       "      <td>Automotive</td>\n",
       "      <td>30</td>\n",
       "    </tr>\n",
       "  </tbody>\n",
       "</table>\n",
       "</div>"
      ],
      "text/plain": [
       "    Best Seller's Rank Number Amazon Marketplace Amazon Product Category  \\\n",
       "27                      60000                USA              Automotive   \n",
       "28                      80000                USA              Automotive   \n",
       "29                     100000                USA              Automotive   \n",
       "30                     150000                USA              Automotive   \n",
       "31                     200000                USA              Automotive   \n",
       "\n",
       "    Estimated Number of Sales per Month  \n",
       "27                                   90  \n",
       "28                                   60  \n",
       "29                                   60  \n",
       "30                                   30  \n",
       "31                                   30  "
      ]
     },
     "execution_count": 30,
     "metadata": {},
     "output_type": "execute_result"
    },
    {
     "data": {
      "image/png": "[encoded data removed]",
      "text/plain": [
       "<Figure size 432x288 with 1 Axes>"
      ]
     },
     "metadata": {
      "needs_background": "light"
     },
     "output_type": "display_data"
    }
   ],
   "source": [
    "plt.scatter(rank[-5:], sales[-5:])\n",
    "file.tail(5)"
   ]
  },
  {
   "cell_type": "code",
   "execution_count": 32,
   "id": "0cb2954e",
   "metadata": {},
   "outputs": [],
   "source": [
    "from scipy.optimize import curve_fit\n",
    "\n",
    "def function(x,a,b,c):\n",
    "    y = a/(b*x**c)\n",
    "    return y\n",
    "\n",
    "popt, pcov4 = curve_fit(function, rank, sales)"
   ]
  },
  {
   "cell_type": "code",
   "execution_count": 36,
   "id": "6c627748",
   "metadata": {},
   "outputs": [
    {
     "data": {
      "text/plain": [
       "[<matplotlib.lines.Line2D at 0x18884307160>]"
      ]
     },
     "execution_count": 36,
     "metadata": {},
     "output_type": "execute_result"
    },
    {
     "data": {
      "image/png": "[encoded data removed]",
      "text/plain": [
       "<Figure size 1440x720 with 1 Axes>"
      ]
     },
     "metadata": {
      "needs_background": "light"
     },
     "output_type": "display_data"
    }
   ],
   "source": [
    "plt.figure(figsize=(20,10))\n",
    "plt.scatter(rank, sales)\n",
    "plt.plot(rank, function(rank, popt[0], popt[1], popt[2]))"
   ]
  },
  {
   "cell_type": "code",
   "execution_count": 49,
   "id": "5d51c0db",
   "metadata": {},
   "outputs": [
    {
     "data": {
      "text/plain": [
       "[<matplotlib.lines.Line2D at 0x18884fc14c0>]"
      ]
     },
     "execution_count": 49,
     "metadata": {},
     "output_type": "execute_result"
    },
    {
     "data": {
      "image/png": "[encoded data removed]",
      "text/plain": [
       "<Figure size 1440x720 with 1 Axes>"
      ]
     },
     "metadata": {
      "needs_background": "light"
     },
     "output_type": "display_data"
    }
   ],
   "source": [
    "popt, pcov4 = curve_fit(function, rank[15:-4], sales[15:-4])\n",
    "\n",
    "plt.figure(figsize=(20,10))\n",
    "plt.scatter(rank, sales)\n",
    "plt.plot(rank, function(rank, popt[0], popt[1], popt[2]))"
   ]
  },
  {
   "cell_type": "code",
   "execution_count": 47,
   "id": "f11330d8",
   "metadata": {},
   "outputs": [
    {
     "data": {
      "text/plain": [
       "(10.821163752221903,\n",
       " 0.00010124519202983626,\n",
       " 0.5570182032188157,\n",
       " 121442649375151.67,\n",
       " 10630.946889009252,\n",
       " 0.00028522322391191297)"
      ]
     },
     "execution_count": 47,
     "metadata": {},
     "output_type": "execute_result"
    }
   ],
   "source": [
    "popt[0], popt[1], popt[2], pcov4[0,0], pcov4[1,1], pcov4[2,2]"
   ]
  },
  {
   "cell_type": "code",
   "execution_count": null,
   "id": "6fee7cf2",
   "metadata": {},
   "outputs": [],
   "source": []
  }
 ],
 "metadata": {
  "kernelspec": {
   "display_name": "Python 3",
   "language": "python",
   "name": "python3"
  },
  "language_info": {
   "codemirror_mode": {
    "name": "ipython",
    "version": 3
   },
   "file_extension": ".py",
   "mimetype": "text/x-python",
   "name": "python",
   "nbconvert_exporter": "python",
   "pygments_lexer": "ipython3",
   "version": "3.8.8"
  }
 },
 "nbformat": 4,
 "nbformat_minor": 5
}
